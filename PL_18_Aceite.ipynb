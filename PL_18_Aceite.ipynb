{
 "cells": [
  {
   "cell_type": "markdown",
   "metadata": {},
   "source": [
    "\n",
    "\n",
    "\n",
    "\n"
   ]
  },
  {
   "cell_type": "markdown",
   "metadata": {},
   "source": [
    "### Ejercicio 18: Aceite"
   ]
  },
  {
   "cell_type": "markdown",
   "metadata": {},
   "source": [
    "Una empresa elabora un aceite nuevo (REFI) refinando exclusivamente diferentes tipos de\n",
    "aceite y mezclándolos. Los tipos de aceite se clasifican en dos categorías: vegetales (VEG1 y\n",
    "VEG2) y no vegetales (OIL1, OIL2 y OIL3). Dependiendo del tipo de aceite, vegetal o no vegetal,\n",
    "se requiere una línea de producción distinta para refinarlo, por lo que se puede refinar un máximo\n",
    "de 200 toneladas de aceite vegetal y 250 de no vegetal. Además, se puede asumir que el coste del\n",
    "refinamiento es nulo y que durante este proceso no se producen pérdidas de peso. Por otro lado,\n",
    "existen restricciones de control de calidad que imponen cotas (inferior y superior) a la acidez\n",
    "del producto final: 1.4 y 1.8 unidades, respectivamente. Se puede asumir que la acidez se mezcla\n",
    "linealmente. La acidez y el coste de una tonelada de cada tipo de aceite se re\n",
    "eja en la siguiente\n",
    "tabla:\n",
    " Aceite | VEG1 | VEG2 | OIL1 | OIL2 | OIL3 \n",
    "-----------------|---------------|---------------|---------------|---------------|----------------------------\n",
    " Coste  | 110           | 120           | 130           | 110           | 115         \n",
    " Acidez | 2,2           | 1,1           | 2             | 1,2           | 1,5 \n",
    "\n",
    "Cada tonelada de producto final se vende a un precio de 150 euros. Plantea el modelo que\n",
    "maximiza el beneficio neto.\n",
    "\n",
    "$$\n",
    "\\begin{equation*}\n",
    "    \\begin{aligned}&\\text{min}&& z=150\\sum_v F_v+150\\sum_o F_o-\\sum_v coste_v F_v-\\sum_o coste_o F_o \\\\\n",
    "    & \\text{sujeto a:} \\\\\n",
    "    &  && \\sum_v acidez_v F_v+\\sum_o acidez_o F_o \\leq 1.8 (\\sum_v F_v+\\sum_o F_o)  && \\\\\n",
    "    &  && \\sum_v acidez_v F_v+\\sum_o acidez_o F_o \\geq 1.4 (\\sum_v F_v+\\sum_o F_o)  && \\\\\n",
    "    &  && F_v \\in (VEG1, VEG2), F_o \\in (OIL1, OIL2, OIL3) &&\\\\\n",
    "    &  && F_v, F_o \\geq 0 \n",
    "    \\end{aligned}\n",
    "    \\end{equation*}\n",
    "$$"
   ]
  },
  {
   "cell_type": "code",
   "execution_count": 1,
   "metadata": {},
   "outputs": [],
   "source": [
    "from pyomo.environ import *\n",
    "import numpy as np\n",
    "model = ConcreteModel()\n",
    "veg = np.arange(2)\n",
    "oil = np.arange(2,5)\n",
    "coste= [110,120,130,110,115]\n",
    "acidez= [2.2,1.1,2,1.2,1.5]\n",
    "\n",
    "model.v = Set(initialize=veg)\n",
    "model.o = Set(initialize=oil)"
   ]
  },
  {
   "cell_type": "code",
   "execution_count": null,
   "metadata": {},
   "outputs": [],
   "source": [
    "model.Fv = Var(model.v, domain = NonNegativeReals)\n",
    "model.Fo = Var(model.o, domain = NonNegativeReals)\n",
    "model.pprint()"
   ]
  },
  {
   "cell_type": "code",
   "execution_count": null,
   "metadata": {},
   "outputs": [],
   "source": [
    "model.benef = Objective(expr = 150*(sum(model.Fv[i] for i in model.v)+sum(model.Fo[j] for j in model.o))-sum(model.Fv[i]*coste[i] for i in model.v)-sum(model.Fo[j]*coste[j] for j in model.o), sense = maximize)\n",
    "model.benef.pprint()"
   ]
  },
  {
   "cell_type": "code",
   "execution_count": null,
   "metadata": {},
   "outputs": [],
   "source": [
    "model.maxprodv = Constraint(expr = sum(model.Fv[i] for i in model.v) <= 200)\n",
    "model.maxprodo = Constraint(expr = sum(model.Fo[i] for i in model.o) <= 250)\n",
    "model.acup = Constraint(expr= sum(model.Fv[i]*acidez[i] for i in model.v)+sum(model.Fo[i]*acidez[i] for i in model.o) <=1.8*(sum(model.Fv[i] for i in model.v)+sum(model.Fo[j] for j in model.o)) )\n",
    "model.aclo = Constraint(expr= sum(model.Fv[i]*acidez[i] for i in model.v)+sum(model.Fo[i]*acidez[i] for i in model.o) >=1.4*(sum(model.Fv[i] for i in model.v)+sum(model.Fo[j] for j in model.o)) )\n",
    "\n",
    "model.acup.pprint()\n"
   ]
  },
  {
   "cell_type": "code",
   "execution_count": null,
   "metadata": {},
   "outputs": [],
   "source": [
    "results = SolverFactory('glpk').solve(model)\n",
    "model.pprint()\n",
    "results.write()   "
   ]
  }
 ],
 "metadata": {
  "interpreter": {
   "hash": "4f9d9337daf846ced0c84725cedcf300d9cb4409c84744f0880fbba17c0ad285"
  },
  "kernelspec": {
   "display_name": "Python 3.8.5 64-bit ('base': conda)",
   "name": "python3"
  },
  "language_info": {
   "codemirror_mode": {
    "name": "ipython",
    "version": 3
   },
   "file_extension": ".py",
   "mimetype": "text/x-python",
   "name": "python",
   "nbconvert_exporter": "python",
   "pygments_lexer": "ipython3",
   "version": "3.8.5"
  }
 },
 "nbformat": 4,
 "nbformat_minor": 4
}
