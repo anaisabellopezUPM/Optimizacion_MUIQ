{
 "cells": [
  {
   "cell_type": "markdown",
   "source": [
    "### Ejercicio 26: Planificación de radioterapia en cáncer de próstata\r\n",
    "Se desea optimizar el tratamiento con radioterapia de un paciente que sufre un tumor en el próstata. Para ello, se dispone de un equipo basado en la tecnología \\textit{Intensity Modulation Radiation Therapy}, que permite dividir la intensidad del tratamiento en diferentes rayos (R1 a R6) que inciden sobre diferentes zonas (Z1 a Z9).\r\n",
    "\r\n",
    "Las unidades de intensidad de radiación son Gy (1 Gray equivale a J de energía depositada sobre 1 kg). La absorción de radiación recibida en cada zona depende de múltiples factores (naturaleza del tejido, cercanía a la fuente, ángulo de incidencia...). A modo de resumen, se facilitan las tasas de absorción (Gy recibidos/Gy incididos) de cada zona. \r\n",
    "\r\n",
    "Se quiere optimizar el tratamiento de forma que la zona Z8 correspondiente a la próstata (lugar donde esta el tumor) reciba la mayor cantidad posible de radiación. La potencia máxima de los diferentes rayos es de 80 Gy\r\n",
    "\r\n",
    "Se conoce además que las zonas Z4 y Z7, correspondientes a las zonas en las que se encuentra el hueso púvico, son especialmente sensibles y se desea que no reciban más de 20 Gy de radiación. Por seguridad, es deseable que ninguna zona reciba más de 50 Gy. \r\n",
    "\r\n",
    "Determinar el tratamiento óptimo"
   ],
   "metadata": {}
  },
  {
   "cell_type": "code",
   "execution_count": null,
   "source": [
    "from pyomo.environ import *\r\n",
    "model = ConcreteModel()"
   ],
   "outputs": [],
   "metadata": {}
  },
  {
   "cell_type": "code",
   "execution_count": null,
   "source": [
    "model.Rvert = Set(initialize=range(3))\r\n",
    "model.Rhor = Set(initialize=range(3))\r\n",
    "model.x = Var(model.Rhor , model.Rvert, within=NonNegativeReals) #intensidad recibida por cada zona\r\n",
    "model.Potv = Var(model.Rvert, within=NonNegativeReals) #potencia suministrada por cada rayo vertical\r\n",
    "model.Poth = Var(model.Rhor, within=NonNegativeReals) #potencia suministrada por cada rayo horizontal"
   ],
   "outputs": [],
   "metadata": {}
  },
  {
   "cell_type": "code",
   "execution_count": null,
   "source": [
    "model.Obj = Objective(expr=model.x[2,1],sense=maximize)"
   ],
   "outputs": [],
   "metadata": {}
  },
  {
   "cell_type": "code",
   "execution_count": null,
   "source": [
    "import numpy as np\r\n",
    "a123 = np.array([[0.3,0.4,0.3], [0.2,0.3,0.2], [0.2,0.5,0.2]])\r\n",
    "a456 = np.array([[0.3,0.2,0.1], [0.4,0.2,0.2], [0.4,0.5,0.2]])\r\n"
   ],
   "outputs": [],
   "metadata": {}
  },
  {
   "cell_type": "code",
   "execution_count": null,
   "source": [
    "model.xcalc = ConstraintList()\r\n",
    "for i in model.Rhor:\r\n",
    "    for j in model.Rvert:\r\n",
    "        model.xcalc.add(\r\n",
    "        model.x[i,j] == a123[i,j]*model.Potv[j]+a456[i,j]*model.Poth[i]\r\n",
    "        )\r\n",
    "        model.xcalc.add(\r\n",
    "        model.x[i,j] <= 50\r\n",
    "        )\r\n",
    "model.max80h = ConstraintList()\r\n",
    "for i in model.Rhor:\r\n",
    "    model.max80h.add(\r\n",
    "    model.Poth[i] <= 80    \r\n",
    "    )\r\n",
    "model.max80v = ConstraintList()\r\n",
    "for j in model.Rvert:\r\n",
    "    model.max80v.add(\r\n",
    "    model.Potv[j] <= 80    \r\n",
    "    )\r\n",
    "\r\n",
    "model.Puv1 = Constraint(expr= model.x[1,0]<=20)\r\n",
    "model.Puv2 = Constraint(expr= model.x[2,0]<=20)\r\n"
   ],
   "outputs": [],
   "metadata": {}
  },
  {
   "cell_type": "code",
   "execution_count": null,
   "source": [
    "results = SolverFactory('glpk').solve(model)\r\n",
    "model.pprint()\r\n",
    "results.write()  "
   ],
   "outputs": [],
   "metadata": {}
  }
 ],
 "metadata": {
  "orig_nbformat": 4,
  "language_info": {
   "name": "python",
   "version": "3.8.3",
   "mimetype": "text/x-python",
   "codemirror_mode": {
    "name": "ipython",
    "version": 3
   },
   "pygments_lexer": "ipython3",
   "nbconvert_exporter": "python",
   "file_extension": ".py"
  },
  "kernelspec": {
   "name": "python3",
   "display_name": "Python 3.8.3 64-bit ('base': conda)"
  },
  "interpreter": {
   "hash": "11ffc019a02cc0e21e59860b66c88ea81995ce9237607e8ab2c087a287ee4867"
  }
 },
 "nbformat": 4,
 "nbformat_minor": 2
}