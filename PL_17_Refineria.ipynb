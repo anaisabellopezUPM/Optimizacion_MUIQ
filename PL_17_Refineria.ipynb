{
 "cells": [
  {
   "cell_type": "markdown",
   "source": [
    "### Ejercicio 17: Refinería"
   ],
   "metadata": {}
  },
  {
   "cell_type": "code",
   "execution_count": null,
   "source": [
    "from pyomo.environ import *\r\n",
    "import pandas as pd\r\n",
    "import numpy as np\r\n",
    "\r\n",
    "model = ConcreteModel()"
   ],
   "outputs": [],
   "metadata": {}
  },
  {
   "cell_type": "code",
   "execution_count": null,
   "source": [
    "crudos=np.arange(10) # desde la 'a' a la 'j'\r\n",
    "refinerias=np.arange(4) # X1, X2, Y, Z\r\n",
    "\r\n",
    "benef=np.array([[-6, 3, 17, 10, 63, 34, 15, 22, -2, 15],[-11, -7, -16, 9, 49, 16, 4, 10, -8, 8],[-7, 3, 16, 13, 60, 25, 12, 19, 4, 13],[-1, 0, 13, 3, 48, 15, 7, 17, 9, 3]])\r\n",
    "\r\n",
    "dispcrudo=np.array([30,30,20,20,10,20,20,10,30,10])\r\n",
    "\r\n",
    "reqref=np.array([30,40,50,60])\r\n",
    "\r\n",
    "model.c=Set(initialize=crudos)\r\n",
    "model.r=Set(initialize=refinerias)\r\n",
    "\r\n"
   ],
   "outputs": [],
   "metadata": {}
  },
  {
   "cell_type": "code",
   "execution_count": null,
   "source": [
    "model.F=Var(model.r,model.c,within=NonNegativeReals)\r\n",
    "model.Z=Objective(expr=sum(model.F[a,b]*benef[a,b] for a in model.r for b in model.c),sense=maximize)"
   ],
   "outputs": [],
   "metadata": {}
  },
  {
   "cell_type": "code",
   "execution_count": null,
   "source": [
    "model.maxdisp = ConstraintList()\r\n",
    "for b in model.c:\r\n",
    "    model.maxdisp.add(\r\n",
    "            sum(model.F[a,b] for a in model.r)<=dispcrudo[b]\r\n",
    "    )\r\n",
    "model.minreq = ConstraintList()\r\n",
    "for a in model.r:\r\n",
    "    model.minreq.add(\r\n",
    "            sum(model.F[a,b] for b in model.c)>=reqref[a]\r\n",
    "        )"
   ],
   "outputs": [],
   "metadata": {}
  },
  {
   "cell_type": "code",
   "execution_count": null,
   "source": [
    "results = SolverFactory('glpk').solve(model)\r\n",
    "model.pprint()\r\n",
    "results.write()   "
   ],
   "outputs": [],
   "metadata": {}
  }
 ],
 "metadata": {
  "orig_nbformat": 4,
  "language_info": {
   "name": "python",
   "version": "3.8.5",
   "mimetype": "text/x-python",
   "codemirror_mode": {
    "name": "ipython",
    "version": 3
   },
   "pygments_lexer": "ipython3",
   "nbconvert_exporter": "python",
   "file_extension": ".py"
  },
  "kernelspec": {
   "name": "python3",
   "display_name": "Python 3.8.5 64-bit ('base': conda)"
  },
  "interpreter": {
   "hash": "4f9d9337daf846ced0c84725cedcf300d9cb4409c84744f0880fbba17c0ad285"
  }
 },
 "nbformat": 4,
 "nbformat_minor": 2
}