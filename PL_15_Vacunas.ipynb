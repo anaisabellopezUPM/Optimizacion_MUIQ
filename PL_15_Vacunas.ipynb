{
 "cells": [
  {
   "cell_type": "markdown",
   "source": [
    "### Ejercicio 15: Vacunas"
   ],
   "metadata": {}
  },
  {
   "cell_type": "markdown",
   "source": [
    "Una compañía distribuidora de vacunas dispone de un total de un millón de vacunas para repartir en España. Las vacunas llegan a través de Barajas, por lo que tienen un coste asociado al transporte hasta el lugar de su utilización (en euros por dosis). Cada comunidad autónoma tiene un número de individuos susceptibles de ser vacunados y realiza una oferta por dosis de vacuna (en euros por dosis). El requisito del Gobierno para que se comercialicen las vacunas es que al menos se vacune al 15% de la población susceptible en cada territorio. No se desea vacunar a más del 40% de la población de un territorio, puesto que ya se considera conseguida la inmunidad de grupo. ¿Cuál es el beneficio máximo que puede obtener la empresa? Los datos por comunidades autónomas están recogidos en el Excel adjunto “DatosVacunas.xlsx”"
   ],
   "metadata": {}
  },
  {
   "cell_type": "markdown",
   "source": [
    "#### Importamos Pyomo"
   ],
   "metadata": {}
  },
  {
   "cell_type": "code",
   "execution_count": null,
   "source": [
    "from pyomo.environ import *\r\n",
    "import pandas as pd\r\n",
    "import numpy as np\r\n"
   ],
   "outputs": [],
   "metadata": {}
  },
  {
   "cell_type": "code",
   "execution_count": null,
   "source": [
    "df = pd.read_excel('Datos/DatosVacunas.xlsx',index_col=0)\r\n",
    "df"
   ],
   "outputs": [],
   "metadata": {}
  },
  {
   "cell_type": "code",
   "execution_count": null,
   "source": [
    "susceptibles = df['Individuos susceptibles']\r\n",
    "pagan = df['Pagan (eur/dosis)']\r\n",
    "transp = df['Transporte (eur/dosis)']\r\n",
    "comunidades = df.index.values.tolist()"
   ],
   "outputs": [],
   "metadata": {}
  },
  {
   "cell_type": "markdown",
   "source": [
    "#### Creamos un problema concreto, es decir, un objeto de la clase problema que ya contenga parámetros"
   ],
   "metadata": {}
  },
  {
   "cell_type": "code",
   "execution_count": null,
   "source": [
    "model = ConcreteModel()"
   ],
   "outputs": [],
   "metadata": {}
  },
  {
   "cell_type": "markdown",
   "source": [
    "#### Necesitamos utilizar sets"
   ],
   "metadata": {}
  },
  {
   "cell_type": "code",
   "execution_count": null,
   "source": [
    "model.com=Set(initialize=comunidades)\r\n"
   ],
   "outputs": [],
   "metadata": {}
  },
  {
   "cell_type": "markdown",
   "source": [
    "#### Definimos las variables"
   ],
   "metadata": {}
  },
  {
   "cell_type": "code",
   "execution_count": null,
   "source": [
    "model.vacunas=Var(model.com,within=NonNegativeReals)\r\n"
   ],
   "outputs": [],
   "metadata": {}
  },
  {
   "cell_type": "markdown",
   "source": [
    "#### Definimos la función objetivo"
   ],
   "metadata": {}
  },
  {
   "cell_type": "code",
   "execution_count": null,
   "source": [
    "model.obj = Objective(expr = sum(model.vacunas[c]*(pagan[c]-transp[c]) for c in model.com ), sense=maximize)"
   ],
   "outputs": [],
   "metadata": {}
  },
  {
   "cell_type": "markdown",
   "source": [
    "#### Definimos la restricciones"
   ],
   "metadata": {}
  },
  {
   "cell_type": "code",
   "execution_count": null,
   "source": [
    "model.minvac = ConstraintList()\r\n",
    "for c in model.com:\r\n",
    "    model.minvac.add(\r\n",
    "        model.vacunas[c]>=0.15*susceptibles[c]\r\n",
    "    )\r\n",
    "\r\n",
    "model.maxvac = ConstraintList()\r\n",
    "for c in model.com:\r\n",
    "    model.maxvac.add(\r\n",
    "        model.vacunas[c]<=0.4*susceptibles[c]\r\n",
    "    )\r\n",
    "\r\n",
    "model.totalvacunas = Constraint(expr = sum(model.vacunas[c] for c in model.com)<=1000000)\r\n"
   ],
   "outputs": [],
   "metadata": {}
  },
  {
   "cell_type": "markdown",
   "source": [
    "#### Resolvemos el problema"
   ],
   "metadata": {}
  },
  {
   "cell_type": "code",
   "execution_count": null,
   "source": [
    "results = SolverFactory('glpk').solve(model)\r\n",
    "model.pprint()\r\n",
    "results.write()   "
   ],
   "outputs": [],
   "metadata": {}
  },
  {
   "cell_type": "markdown",
   "source": [
    "#### Exportamos a Excel"
   ],
   "metadata": {}
  },
  {
   "cell_type": "code",
   "execution_count": null,
   "source": [
    "df2=pd.DataFrame.from_dict(model.vacunas.extract_values(),orient='index')\r\n",
    "df2.to_excel('Resultados/Result_Vacunas.xlsx')\r\n",
    "df2"
   ],
   "outputs": [],
   "metadata": {}
  },
  {
   "cell_type": "code",
   "execution_count": null,
   "source": [
    "vac=df2.to_numpy()\r\n",
    "vac\r\n",
    "import matplotlib.pyplot as plt\r\n",
    "fig = plt.figure(figsize=(8, 8), dpi=300)\r\n",
    "plt.plot(comunidades,vac,'o',color='black')\r\n",
    "plt.xticks(rotation=90)\r\n",
    "plt.xlabel('Comunidad')\r\n",
    "plt.ylabel('Vacunas recibidas')\r\n",
    "plt.savefig('Resultados/figuravacunas.svg')\r\n",
    "\r\n",
    "\r\n"
   ],
   "outputs": [],
   "metadata": {}
  }
 ],
 "metadata": {
  "kernelspec": {
   "name": "python3",
   "display_name": "Python 3.8.3 64-bit ('base': conda)"
  },
  "language_info": {
   "codemirror_mode": {
    "name": "ipython",
    "version": 3
   },
   "file_extension": ".py",
   "mimetype": "text/x-python",
   "name": "python",
   "nbconvert_exporter": "python",
   "pygments_lexer": "ipython3",
   "version": "3.8.3"
  },
  "interpreter": {
   "hash": "11ffc019a02cc0e21e59860b66c88ea81995ce9237607e8ab2c087a287ee4867"
  }
 },
 "nbformat": 4,
 "nbformat_minor": 4
}